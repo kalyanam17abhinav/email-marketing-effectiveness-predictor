{
 "cells": [
  {
   "cell_type": "markdown",
   "id": "b3f30f18",
   "metadata": {},
   "source": [
    "## Email Marketing Effectiveness Prediction"
   ]
  },
  {
   "cell_type": "markdown",
   "id": "42dc62e5",
   "metadata": {},
   "source": [
    "Aim : to predict how effective the email marketing is."
   ]
  },
  {
   "cell_type": "code",
   "execution_count": 113,
   "id": "cc06463f",
   "metadata": {},
   "outputs": [],
   "source": [
    "import pandas as pd # import pandas library for loading and describing dataset"
   ]
  },
  {
   "cell_type": "code",
   "execution_count": 114,
   "id": "896cfc5e",
   "metadata": {},
   "outputs": [],
   "source": [
    "df = pd.read_csv('email_marketing_data.csv') # loading dataset"
   ]
  },
  {
   "cell_type": "code",
   "execution_count": 115,
   "id": "07cc1d56",
   "metadata": {
    "scrolled": true
   },
   "outputs": [],
   "source": [
    "df.head() # viewing first 5 rows of the data"
   ]
  },
  {
   "cell_type": "code",
   "execution_count": 65,
   "id": "49b740f7",
   "metadata": {},
   "outputs": [],
   "source": [
    "df.info # overview of data"
   ]
  },
  {
   "cell_type": "code",
   "execution_count": 66,
   "id": "16664b7e",
   "metadata": {
    "scrolled": true
   },
   "outputs": [],
   "source": [
    "df.isnull().sum() # checking null records"
   ]
  },
  {
   "cell_type": "code",
   "execution_count": 67,
   "id": "ed38337b",
   "metadata": {},
   "outputs": [],
   "source": [
    "# there are no null records"
   ]
  },
  {
   "cell_type": "code",
   "execution_count": null,
   "id": "4b14ccf1",
   "metadata": {},
   "outputs": [],
   "source": []
  },
  {
   "cell_type": "code",
   "execution_count": 68,
   "id": "566b7e90",
   "metadata": {},
   "outputs": [],
   "source": [
    "df = pd.get_dummies(data=df,columns=['Email_Type','Email_Source_Type','Customer_Location','Email_Campaign_Type','Time_Email_sent_Category']) # encoding all categorical data"
   ]
  },
  {
   "cell_type": "code",
   "execution_count": 69,
   "id": "bf3c0dab",
   "metadata": {
    "scrolled": true
   },
   "outputs": [],
   "source": [
    "df.head()"
   ]
  },
  {
   "cell_type": "code",
   "execution_count": 70,
   "id": "432f7627",
   "metadata": {},
   "outputs": [],
   "source": [
    "from sklearn.preprocessing import LabelEncoder"
   ]
  },
  {
   "cell_type": "code",
   "execution_count": 71,
   "id": "925893bf",
   "metadata": {},
   "outputs": [],
   "source": [
    "labelencoder = LabelEncoder()"
   ]
  },
  {
   "cell_type": "code",
   "execution_count": 72,
   "id": "d710ad29",
   "metadata": {},
   "outputs": [],
   "source": [
    "df['Email_Status'] = labelencoder.fit_transform(df['Email_Status']) # encoding email_status to numerical data for visualization"
   ]
  },
  {
   "cell_type": "code",
   "execution_count": 73,
   "id": "6a29ecf7",
   "metadata": {},
   "outputs": [],
   "source": [
    "df['Email_Status'] # view the numerical Email_Status"
   ]
  },
  {
   "cell_type": "code",
   "execution_count": 74,
   "id": "e596b290",
   "metadata": {},
   "outputs": [],
   "source": [
    "df.head(120)\n",
    "# 0 = clicked\n",
    "# 1 = not_opened\n",
    "# 2 = opened"
   ]
  },
  {
   "cell_type": "code",
   "execution_count": 75,
   "id": "8c167a6c",
   "metadata": {},
   "outputs": [],
   "source": [
    "import seaborn as sns # importing seaborn to visualize the data"
   ]
  },
  {
   "cell_type": "code",
   "execution_count": 76,
   "id": "28aa080a",
   "metadata": {},
   "outputs": [],
   "source": [
    "sns.barplot(x='Email_Status',y='Subject_Hotness_Score',data=df)"
   ]
  },
  {
   "cell_type": "code",
   "execution_count": 77,
   "id": "ac6219dc",
   "metadata": {},
   "outputs": [],
   "source": [
    "sns.barplot(x='Email_Status',y='Total_Past_Communications',data=df)"
   ]
  },
  {
   "cell_type": "code",
   "execution_count": 78,
   "id": "b9a21163",
   "metadata": {},
   "outputs": [],
   "source": [
    "# feature scaling\n",
    "\n",
    "from sklearn.preprocessing import StandardScaler"
   ]
  },
  {
   "cell_type": "code",
   "execution_count": 79,
   "id": "626a52c1",
   "metadata": {},
   "outputs": [],
   "source": [
    "df.columns"
   ]
  },
  {
   "cell_type": "code",
   "execution_count": 80,
   "id": "abab2da7",
   "metadata": {},
   "outputs": [],
   "source": [
    "X = df.drop(['Email_ID',\n",
    "       'Word_Count', 'Total_Links', 'Total_Images', 'Email_Status',\n",
    "       'Email_Type_Promotional', 'Email_Type_Transactional',\n",
    "       'Email_Source_Type_App', 'Email_Source_Type_Website',\n",
    "       'Customer_Location_Apex', 'Customer_Location_Bay',\n",
    "       'Customer_Location_Central', 'Customer_Location_Downtown',\n",
    "       'Customer_Location_East', 'Customer_Location_Forest',\n",
    "       'Customer_Location_Green', 'Email_Campaign_Type_Campaign_1',\n",
    "       'Email_Campaign_Type_Campaign_2', 'Email_Campaign_Type_Campaign_3',], axis=1)\n",
    "y = df['Email_Status'] # assigning target column to y"
   ]
  },
  {
   "cell_type": "code",
   "execution_count": 81,
   "id": "1a697898",
   "metadata": {
    "scrolled": true
   },
   "outputs": [],
   "source": [
    "X"
   ]
  },
  {
   "cell_type": "code",
   "execution_count": 82,
   "id": "b92a7ef7",
   "metadata": {},
   "outputs": [],
   "source": [
    "y"
   ]
  },
  {
   "cell_type": "code",
   "execution_count": 83,
   "id": "777d6499",
   "metadata": {},
   "outputs": [],
   "source": [
    "# Feature Scaling\n",
    "scaler = StandardScaler()\n",
    "X_scaled = scaler.fit_transform(X) # standardizes the features in X"
   ]
  },
  {
   "cell_type": "code",
   "execution_count": 84,
   "id": "d1ef5f0e",
   "metadata": {},
   "outputs": [],
   "source": [
    "df.head()"
   ]
  },
  {
   "cell_type": "code",
   "execution_count": 85,
   "id": "35dad2e2",
   "metadata": {},
   "outputs": [],
   "source": [
    "# splitting training and testing data\n",
    "\n",
    "from sklearn.model_selection import train_test_split"
   ]
  },
  {
   "cell_type": "code",
   "execution_count": 86,
   "id": "95ababd5",
   "metadata": {},
   "outputs": [],
   "source": [
    "X_train,X_test,y_train,y_test = train_test_split(X_scaled,y,test_size = 0.3,random_state=42)"
   ]
  },
  {
   "cell_type": "markdown",
   "id": "450f3d0c",
   "metadata": {},
   "source": [
    "### Logistic Regression"
   ]
  },
  {
   "cell_type": "code",
   "execution_count": 87,
   "id": "0171b4b1",
   "metadata": {},
   "outputs": [],
   "source": [
    "# training logistic regression\n",
    "\n",
    "from sklearn.linear_model import LogisticRegression"
   ]
  },
  {
   "cell_type": "code",
   "execution_count": 88,
   "id": "2835f9f6",
   "metadata": {},
   "outputs": [],
   "source": [
    "model = LogisticRegression() # creating instance of LogisticRegression"
   ]
  },
  {
   "cell_type": "code",
   "execution_count": 89,
   "id": "0d9967b8",
   "metadata": {},
   "outputs": [],
   "source": [
    "model.fit(X_train,y_train) # training the model using training data"
   ]
  },
  {
   "cell_type": "code",
   "execution_count": 90,
   "id": "6042bab6",
   "metadata": {},
   "outputs": [],
   "source": [
    "accuracy_score(y_train,model.predict(X_train)) # accuracy of training"
   ]
  },
  {
   "cell_type": "code",
   "execution_count": 91,
   "id": "3a1e4d60",
   "metadata": {},
   "outputs": [],
   "source": [
    "# model evaluation\n",
    "\n",
    "from sklearn.metrics import accuracy_score"
   ]
  },
  {
   "cell_type": "code",
   "execution_count": 92,
   "id": "7964a461",
   "metadata": {},
   "outputs": [],
   "source": [
    "prediction = model.predict(X_test) # making predictions using the testing data"
   ]
  },
  {
   "cell_type": "code",
   "execution_count": 93,
   "id": "08e383bc",
   "metadata": {},
   "outputs": [],
   "source": [
    "accuracy_score(y_test,prediction) # calculating accuracy of prediction"
   ]
  },
  {
   "cell_type": "code",
   "execution_count": 94,
   "id": "35d70c20",
   "metadata": {},
   "outputs": [],
   "source": [
    "df.head()"
   ]
  },
  {
   "cell_type": "markdown",
   "id": "20cf50ec",
   "metadata": {},
   "source": [
    "### Random Forest"
   ]
  },
  {
   "cell_type": "code",
   "execution_count": 95,
   "id": "2bb9e44a",
   "metadata": {},
   "outputs": [],
   "source": [
    "from sklearn.ensemble import RandomForestClassifier # importing RandomClassifier class"
   ]
  },
  {
   "cell_type": "code",
   "execution_count": 96,
   "id": "97eca294",
   "metadata": {},
   "outputs": [],
   "source": [
    "rfc = RandomForestClassifier(n_estimators=100,random_state=42) # creating instance of the class"
   ]
  },
  {
   "cell_type": "code",
   "execution_count": 97,
   "id": "33d58abb",
   "metadata": {},
   "outputs": [],
   "source": [
    "rfc.fit(X_train,y_train) # training the model"
   ]
  },
  {
   "cell_type": "code",
   "execution_count": 98,
   "id": "dade50bb",
   "metadata": {},
   "outputs": [],
   "source": [
    "accuracy_score(y_train,rfc.predict(X_train)) # accuracy of training"
   ]
  },
  {
   "cell_type": "code",
   "execution_count": 99,
   "id": "a5a952dd",
   "metadata": {},
   "outputs": [],
   "source": [
    "prediction_rfc = rfc.predict(X_test) #making the predictions"
   ]
  },
  {
   "cell_type": "code",
   "execution_count": 100,
   "id": "cc9c8544",
   "metadata": {},
   "outputs": [],
   "source": [
    "accuracy_score(y_test,prediction_rfc) #calculating accuracy of prediction"
   ]
  },
  {
   "cell_type": "markdown",
   "id": "ec7093ac",
   "metadata": {},
   "source": [
    "### K-Nearest Neighbors"
   ]
  },
  {
   "cell_type": "code",
   "execution_count": 101,
   "id": "59cd59a3",
   "metadata": {},
   "outputs": [],
   "source": [
    "from sklearn.neighbors import KNeighborsClassifier # importing KNeighborsClassifier class"
   ]
  },
  {
   "cell_type": "code",
   "execution_count": 102,
   "id": "4634aab4",
   "metadata": {},
   "outputs": [],
   "source": [
    "knn = KNeighborsClassifier(n_neighbors=5) # creating instance of KNeighborsClassifier"
   ]
  },
  {
   "cell_type": "code",
   "execution_count": 103,
   "id": "7273452e",
   "metadata": {},
   "outputs": [],
   "source": [
    "knn.fit(X_train,y_train) # training the model"
   ]
  },
  {
   "cell_type": "code",
   "execution_count": 104,
   "id": "b508150d",
   "metadata": {},
   "outputs": [],
   "source": [
    "accuracy_score(y_train,knn.predict(X_train)) # accuracy of training"
   ]
  },
  {
   "cell_type": "code",
   "execution_count": 105,
   "id": "039f50ed",
   "metadata": {},
   "outputs": [],
   "source": [
    "prediction_knn = knn.predict(X_test) # making predictions"
   ]
  },
  {
   "cell_type": "code",
   "execution_count": 106,
   "id": "725d6796",
   "metadata": {},
   "outputs": [],
   "source": [
    "accuracy_score(y_test,prediction_knn) # calculating accuracy of prediciton"
   ]
  },
  {
   "cell_type": "markdown",
   "id": "40e79c11",
   "metadata": {},
   "source": [
    "### Decision Tree"
   ]
  },
  {
   "cell_type": "code",
   "execution_count": 107,
   "id": "19b33b58",
   "metadata": {},
   "outputs": [],
   "source": [
    "from sklearn.tree import DecisionTreeClassifier # importing DecisionTreeClassifier class"
   ]
  },
  {
   "cell_type": "code",
   "execution_count": 108,
   "id": "a3777dca",
   "metadata": {},
   "outputs": [],
   "source": [
    "dt = DecisionTreeClassifier() # creating instance of DecisionTreeClassifier"
   ]
  },
  {
   "cell_type": "code",
   "execution_count": 109,
   "id": "126aef48",
   "metadata": {},
   "outputs": [],
   "source": [
    "dt.fit(X_train,y_train) # training the model"
   ]
  },
  {
   "cell_type": "code",
   "execution_count": 110,
   "id": "3c1f67eb",
   "metadata": {},
   "outputs": [],
   "source": [
    "accuracy_score(y_train,dt.predict(X_train)) # accuracy of training"
   ]
  },
  {
   "cell_type": "code",
   "execution_count": 111,
   "id": "002fba21",
   "metadata": {},
   "outputs": [],
   "source": [
    "prediction_dt = dt.predict(X_test) # making predictions"
   ]
  },
  {
   "cell_type": "code",
   "execution_count": 112,
   "id": "1ed9e13b",
   "metadata": {},
   "outputs": [],
   "source": [
    "accuracy_score(y_test,prediction_dt) # calculating accuracy of prediction"
   ]
  },
  {
   "cell_type": "code",
   "execution_count": null,
   "id": "86b93760",
   "metadata": {},
   "outputs": [],
   "source": []
  }
 ],
 "metadata": {
  "kernelspec": {
   "display_name": "Python 3 (ipykernel)",
   "language": "python",
   "name": "python3"
  },
  "language_info": {
   "codemirror_mode": {
    "name": "ipython",
    "version": 3
   },
   "file_extension": ".py",
   "mimetype": "text/x-python",
   "name": "python",
   "nbconvert_exporter": "python",
   "pygments_lexer": "ipython3",
   "version": "3.11.3"
  }
 },
 "nbformat": 4,
 "nbformat_minor": 5
}
